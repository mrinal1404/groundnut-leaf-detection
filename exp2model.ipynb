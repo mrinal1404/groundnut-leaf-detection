{
 "cells": [
  {
   "cell_type": "code",
   "execution_count": 40,
   "metadata": {},
   "outputs": [],
   "source": [
    "import numpy as np # type: ignore\n",
    "import pandas as pd # type: ignore\n",
    "import os\n",
    "import cv2 # type: ignore\n",
    "import tensorflow as tf# type: ignore\n",
    "from sklearn.model_selection import train_test_split# type: ignore\n",
    "from keras.preprocessing.image import ImageDataGenerator# type: ignore\n",
    "from tensorflow import keras# type: ignore\n",
    "from keras.models import Sequential# type: ignore\n",
    "from keras.layers import Dense, Dropout, Flatten# type: ignore\n",
    "from keras.layers import Conv2D, MaxPooling2D# type: ignore\n",
    "import matplotlib.pyplot as plt\n",
    "import matplotlib.image as mpimg\n",
    "from PIL import Image\n"
   ]
  },
  {
   "cell_type": "code",
   "execution_count": 41,
   "metadata": {},
   "outputs": [],
   "source": [
    "nutrition_deficiency = os.listdir('C:/Users/mrina/Desktop/₹/endtoend/groundnut leaf classification and detection/Groundnut_Leaf_dataset/train/exp2/nutrition_deficiency_1')\n",
    "healthy_leaf = os.listdir('C:/Users/mrina/Desktop/₹/endtoend/groundnut leaf classification and detection/Groundnut_Leaf_dataset/train/exp2/healthy_leaf_1')"
   ]
  },
  {
   "cell_type": "code",
   "execution_count": 42,
   "metadata": {},
   "outputs": [
    {
     "name": "stdout",
     "output_type": "stream",
     "text": [
      "Number of images: 1255\n",
      "Number of images: 1462\n"
     ]
    }
   ],
   "source": [
    "print('Number of images:', len(nutrition_deficiency))\n",
    "print('Number of images:', len(healthy_leaf))\n"
   ]
  },
  {
   "cell_type": "code",
   "execution_count": 43,
   "metadata": {},
   "outputs": [],
   "source": [
    "nutrition_deficiency_labels = [0]*1255\n",
    "healthy_leaf_labels = [1]*1462"
   ]
  },
  {
   "cell_type": "code",
   "execution_count": 44,
   "metadata": {},
   "outputs": [],
   "source": [
    "labels= nutrition_deficiency_labels + healthy_leaf_labels"
   ]
  },
  {
   "cell_type": "code",
   "execution_count": 45,
   "metadata": {},
   "outputs": [],
   "source": [
    "nutrition_deficiency_path= 'C:/Users/mrina/Desktop/₹/endtoend/groundnut leaf classification and detection/Groundnut_Leaf_dataset/train/exp2/nutrition_deficiency_1/'\n",
    "data = []\n",
    "\n",
    "for img_file in nutrition_deficiency:\n",
    "\n",
    "  image = Image.open(nutrition_deficiency_path + img_file)\n",
    "  image = image.resize((128,128))\n",
    "  image = image.convert('RGB')\n",
    "  image = np.array(image)\n",
    "  data.append(image)\n",
    "\n",
    "healthy_leaf_path = 'C:/Users/mrina/Desktop/₹/endtoend/groundnut leaf classification and detection/Groundnut_Leaf_dataset/train/exp2/healthy_leaf_1/'\n",
    "for img_file in healthy_leaf:\n",
    "\n",
    "  image = Image.open(healthy_leaf_path + img_file)\n",
    "  image = image.resize((128,128))\n",
    "  image = image.convert('RGB')\n",
    "  image = np.array(image)\n",
    "  data.append(image)  "
   ]
  },
  {
   "cell_type": "code",
   "execution_count": 46,
   "metadata": {},
   "outputs": [],
   "source": [
    "X = np.array(data)\n",
    "Y = np.array(labels)\n"
   ]
  },
  {
   "cell_type": "code",
   "execution_count": 47,
   "metadata": {},
   "outputs": [],
   "source": [
    "X_train, X_test, Y_train, Y_test = train_test_split(X, Y, test_size=0.2, random_state=20)"
   ]
  },
  {
   "cell_type": "code",
   "execution_count": 48,
   "metadata": {},
   "outputs": [],
   "source": [
    "X_train_scaled = X_train/255\n",
    "\n",
    "X_test_scaled = X_test/255"
   ]
  },
  {
   "cell_type": "code",
   "execution_count": 49,
   "metadata": {},
   "outputs": [
    {
     "name": "stdout",
     "output_type": "stream",
     "text": [
      "WARNING:tensorflow:From c:\\Users\\mrina\\Anaconda3\\Lib\\site-packages\\keras\\src\\backend.py:873: The name tf.get_default_graph is deprecated. Please use tf.compat.v1.get_default_graph instead.\n",
      "\n",
      "WARNING:tensorflow:From c:\\Users\\mrina\\Anaconda3\\Lib\\site-packages\\keras\\src\\layers\\pooling\\max_pooling2d.py:161: The name tf.nn.max_pool is deprecated. Please use tf.nn.max_pool2d instead.\n",
      "\n"
     ]
    }
   ],
   "source": [
    "model = keras.Sequential()\n",
    "\n",
    "model.add(keras.layers.Conv2D(32, kernel_size=(3,3), activation='relu', input_shape=(128,128,3)))\n",
    "model.add(keras.layers.MaxPooling2D(pool_size=(2,2)))\n",
    "\n",
    "model.add(keras.layers.Conv2D(16, kernel_size=(3,3), activation='relu'))\n",
    "model.add(keras.layers.MaxPooling2D(pool_size=(2,2)))\n",
    "\n",
    "model.add(keras.layers.Flatten())\n",
    "\n",
    "\n",
    "model.add(keras.layers.Dense(128, activation='relu'))\n",
    "model.add(keras.layers.Dropout(0.5))\n",
    "\n",
    "\n",
    "model.add(keras.layers.Dense(2, activation='sigmoid'))"
   ]
  },
  {
   "cell_type": "code",
   "execution_count": 50,
   "metadata": {},
   "outputs": [
    {
     "name": "stdout",
     "output_type": "stream",
     "text": [
      "WARNING:tensorflow:From c:\\Users\\mrina\\Anaconda3\\Lib\\site-packages\\keras\\src\\optimizers\\__init__.py:309: The name tf.train.Optimizer is deprecated. Please use tf.compat.v1.train.Optimizer instead.\n",
      "\n"
     ]
    }
   ],
   "source": [
    "# compile the neural network\n",
    "model.compile(optimizer='adam',\n",
    "              loss='sparse_categorical_crossentropy',\n",
    "              metrics=['acc'])"
   ]
  },
  {
   "cell_type": "code",
   "execution_count": 51,
   "metadata": {},
   "outputs": [
    {
     "name": "stdout",
     "output_type": "stream",
     "text": [
      "Epoch 1/20\n",
      "WARNING:tensorflow:From c:\\Users\\mrina\\Anaconda3\\Lib\\site-packages\\keras\\src\\utils\\tf_utils.py:492: The name tf.ragged.RaggedTensorValue is deprecated. Please use tf.compat.v1.ragged.RaggedTensorValue instead.\n",
      "\n",
      "WARNING:tensorflow:From c:\\Users\\mrina\\Anaconda3\\Lib\\site-packages\\keras\\src\\engine\\base_layer_utils.py:384: The name tf.executing_eagerly_outside_functions is deprecated. Please use tf.compat.v1.executing_eagerly_outside_functions instead.\n",
      "\n",
      "68/68 [==============================] - 8s 80ms/step - loss: 0.4598 - acc: 0.7773\n",
      "Epoch 2/20\n",
      "68/68 [==============================] - 6s 86ms/step - loss: 0.2904 - acc: 0.9024\n",
      "Epoch 3/20\n",
      "68/68 [==============================] - 6s 85ms/step - loss: 0.2416 - acc: 0.9162\n",
      "Epoch 4/20\n",
      "68/68 [==============================] - 6s 84ms/step - loss: 0.1896 - acc: 0.9314\n",
      "Epoch 5/20\n",
      "68/68 [==============================] - 6s 82ms/step - loss: 0.1660 - acc: 0.9370\n",
      "Epoch 6/20\n",
      "68/68 [==============================] - 6s 82ms/step - loss: 0.1492 - acc: 0.9425\n",
      "Epoch 7/20\n",
      "68/68 [==============================] - 5s 79ms/step - loss: 0.1333 - acc: 0.9406\n",
      "Epoch 8/20\n",
      "68/68 [==============================] - 6s 82ms/step - loss: 0.0928 - acc: 0.9664\n",
      "Epoch 9/20\n",
      "68/68 [==============================] - 5s 80ms/step - loss: 0.0751 - acc: 0.9733\n",
      "Epoch 10/20\n",
      "68/68 [==============================] - 6s 81ms/step - loss: 0.0811 - acc: 0.9715\n",
      "Epoch 11/20\n",
      "68/68 [==============================] - 6s 83ms/step - loss: 0.0839 - acc: 0.9650\n",
      "Epoch 12/20\n",
      "68/68 [==============================] - 6s 81ms/step - loss: 0.0425 - acc: 0.9848\n",
      "Epoch 13/20\n",
      "68/68 [==============================] - 5s 79ms/step - loss: 0.1014 - acc: 0.9636\n",
      "Epoch 14/20\n",
      "68/68 [==============================] - 6s 84ms/step - loss: 0.0584 - acc: 0.9761\n",
      "Epoch 15/20\n",
      "68/68 [==============================] - 6s 86ms/step - loss: 0.0393 - acc: 0.9913\n",
      "Epoch 16/20\n",
      "68/68 [==============================] - 5s 76ms/step - loss: 0.0374 - acc: 0.9890\n",
      "Epoch 17/20\n",
      "68/68 [==============================] - 5s 78ms/step - loss: 0.0209 - acc: 0.9936\n",
      "Epoch 18/20\n",
      "68/68 [==============================] - 5s 76ms/step - loss: 0.0216 - acc: 0.9945\n",
      "Epoch 19/20\n",
      "68/68 [==============================] - 6s 83ms/step - loss: 0.0222 - acc: 0.9931\n",
      "Epoch 20/20\n",
      "68/68 [==============================] - 5s 79ms/step - loss: 0.0152 - acc: 0.9940\n"
     ]
    }
   ],
   "source": [
    "history = model.fit(X_train_scaled, Y_train, epochs=20)"
   ]
  },
  {
   "cell_type": "code",
   "execution_count": 52,
   "metadata": {},
   "outputs": [
    {
     "name": "stdout",
     "output_type": "stream",
     "text": [
      "17/17 [==============================] - 1s 25ms/step - loss: 0.2711 - acc: 0.9283\n",
      "Test Accuracy = 0.9283088445663452\n"
     ]
    }
   ],
   "source": [
    "loss, accuracy = model.evaluate(X_test_scaled, Y_test)\n",
    "print('Test Accuracy =', accuracy)"
   ]
  },
  {
   "cell_type": "code",
   "execution_count": 53,
   "metadata": {},
   "outputs": [
    {
     "name": "stdout",
     "output_type": "stream",
     "text": [
      "17/17 [==============================] - 1s 27ms/step\n"
     ]
    }
   ],
   "source": [
    "y_pred = np.argmax(model.predict(X_test), axis=-1)"
   ]
  },
  {
   "cell_type": "code",
   "execution_count": 54,
   "metadata": {},
   "outputs": [
    {
     "name": "stdout",
     "output_type": "stream",
     "text": [
      "              precision    recall  f1-score   support\n",
      "\n",
      "           0       0.68      0.98      0.80       264\n",
      "           1       0.96      0.57      0.72       280\n",
      "\n",
      "    accuracy                           0.77       544\n",
      "   macro avg       0.82      0.78      0.76       544\n",
      "weighted avg       0.83      0.77      0.76       544\n",
      "\n"
     ]
    }
   ],
   "source": [
    "from sklearn import metrics\n",
    "\n",
    "\n",
    "print(metrics.classification_report(Y_test, y_pred))"
   ]
  },
  {
   "cell_type": "code",
   "execution_count": 58,
   "metadata": {},
   "outputs": [
    {
     "name": "stdout",
     "output_type": "stream",
     "text": [
      "[[258   6]\n",
      " [119 161]]\n"
     ]
    },
    {
     "data": {
      "image/png": "[encoded data removed]",
      "text/plain": [
       "<Figure size 800x600 with 2 Axes>"
      ]
     },
     "metadata": {},
     "output_type": "display_data"
    }
   ],
   "source": [
    "from sklearn.metrics import confusion_matrix,roc_curve,auc\n",
    "import seaborn as sns\n",
    "conf_matrix = confusion_matrix(Y_test, y_pred)\n",
    "print(conf_matrix)\n",
    "\n",
    "# Plot confusion matrix\n",
    "plt.figure(figsize=(8, 6))\n",
    "sns.heatmap(conf_matrix, annot=True, fmt='d', cmap='Blues', xticklabels=['nutrition_deficiency', 'Healthy Leaf'], yticklabels=['nutrition_deficiency', 'Healthy Leaf'])\n",
    "plt.xlabel('Predicted')\n",
    "plt.ylabel('True')\n",
    "plt.title('Confusion Matrix')\n",
    "plt.show()"
   ]
  },
  {
   "cell_type": "code",
   "execution_count": 59,
   "metadata": {},
   "outputs": [
    {
     "name": "stdout",
     "output_type": "stream",
     "text": [
      "17/17 [==============================] - 1s 30ms/step\n"
     ]
    },
    {
     "data": {
      "image/png": "[encoded data removed]",
      "text/plain": [
       "<Figure size 640x480 with 1 Axes>"
      ]
     },
     "metadata": {},
     "output_type": "display_data"
    }
   ],
   "source": [
    "y_pred_prob = model.predict(X_test_scaled)[:, 1]\n",
    "fpr, tpr, _ = roc_curve(Y_test, y_pred_prob)\n",
    "roc_auc = auc(fpr, tpr)\n",
    "\n",
    "# Plot ROC curve\n",
    "plt.figure()\n",
    "plt.plot(fpr, tpr, color='darkorange', lw=2, label='ROC curve (area = %0.2f)' % roc_auc)\n",
    "plt.plot([0, 1], [0, 1], color='navy', lw=2, linestyle='--')\n",
    "plt.xlim([0.0, 1.0])\n",
    "plt.ylim([0.0, 1.05])\n",
    "plt.xlabel('False Positive Rate')\n",
    "plt.ylabel('True Positive Rate')\n",
    "plt.title('Receiver Operating Characteristic (ROC) Curve')\n",
    "plt.legend(loc=\"lower right\")\n",
    "plt.show()"
   ]
  },
  {
   "cell_type": "code",
   "execution_count": null,
   "metadata": {},
   "outputs": [],
   "source": [
    "model.save('groundnut_leaf_classifier_model2.h5')"
   ]
  },
  {
   "cell_type": "code",
   "execution_count": null,
   "metadata": {},
   "outputs": [],
   "source": [
    "# load and evaluate a saved model\n",
    "from numpy import loadtxt\n",
    "from tensorflow.keras.models import load_model\n",
    " \n",
    "# load model\n",
    "model = load_model('groundnut_leaf_classifier_model2.h5')"
   ]
  },
  {
   "cell_type": "code",
   "execution_count": null,
   "metadata": {},
   "outputs": [],
   "source": [
    "model.summary()"
   ]
  },
  {
   "cell_type": "code",
   "execution_count": null,
   "metadata": {},
   "outputs": [],
   "source": [
    "X = np.array(data)\n",
    "Y = np.array(labels)"
   ]
  },
  {
   "cell_type": "code",
   "execution_count": null,
   "metadata": {},
   "outputs": [],
   "source": [
    "score = model.evaluate(X, Y, verbose=0)\n",
    "print(\"%s: %.2f%%\" % (model.metrics_names[1], score[1]*100))"
   ]
  }
 ],
 "metadata": {
  "kernelspec": {
   "display_name": "base",
   "language": "python",
   "name": "python3"
  },
  "language_info": {
   "codemirror_mode": {
    "name": "ipython",
    "version": 3
   },
   "file_extension": ".py",
   "mimetype": "text/x-python",
   "name": "python",
   "nbconvert_exporter": "python",
   "pygments_lexer": "ipython3",
   "version": "3.11.4"
  }
 },
 "nbformat": 4,
 "nbformat_minor": 2
}
