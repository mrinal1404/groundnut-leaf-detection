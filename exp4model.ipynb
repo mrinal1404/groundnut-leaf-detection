{
 "cells": [
  {
   "cell_type": "code",
   "execution_count": 1,
   "metadata": {},
   "outputs": [
    {
     "name": "stdout",
     "output_type": "stream",
     "text": [
      "WARNING:tensorflow:From c:\\Users\\mrina\\Anaconda3\\Lib\\site-packages\\keras\\src\\losses.py:2976: The name tf.losses.sparse_softmax_cross_entropy is deprecated. Please use tf.compat.v1.losses.sparse_softmax_cross_entropy instead.\n",
      "\n"
     ]
    }
   ],
   "source": [
    "import numpy as np # type: ignore\n",
    "import pandas as pd # type: ignore\n",
    "import os\n",
    "import cv2 # type: ignore\n",
    "import tensorflow as tf# type: ignore\n",
    "from sklearn.model_selection import train_test_split# type: ignore\n",
    "from keras.preprocessing.image import ImageDataGenerator# type: ignore\n",
    "from tensorflow import keras# type: ignore\n",
    "from keras.models import Sequential# type: ignore\n",
    "from keras.layers import Dense, Dropout, Flatten# type: ignore\n",
    "from keras.layers import Conv2D, MaxPooling2D# type: ignore\n",
    "import matplotlib.pyplot as plt\n",
    "import matplotlib.image as mpimg\n",
    "from PIL import Image\n"
   ]
  },
  {
   "cell_type": "code",
   "execution_count": 2,
   "metadata": {},
   "outputs": [],
   "source": [
    "rust1= os.listdir('D:/₹/endtoend/groundnut leaf classification and detection/Groundnut_Leaf_dataset/train/exp4/early_rust_1')\n",
    "healthy_leaf = os.listdir('D:/₹/endtoend/groundnut leaf classification and detection/Groundnut_Leaf_dataset/train/exp4/healthy_leaf_1')"
   ]
  },
  {
   "cell_type": "code",
   "execution_count": 3,
   "metadata": {},
   "outputs": [
    {
     "name": "stdout",
     "output_type": "stream",
     "text": [
      "Number of images: 1065\n",
      "Number of images: 1462\n"
     ]
    }
   ],
   "source": [
    "print('Number of images:', len(rust1))\n",
    "print('Number of images:', len(healthy_leaf))"
   ]
  },
  {
   "cell_type": "code",
   "execution_count": 4,
   "metadata": {},
   "outputs": [],
   "source": [
    "rust_labels1 = [0]*1065\n",
    "healthy_leaf_labels = [1]*1462"
   ]
  },
  {
   "cell_type": "code",
   "execution_count": 5,
   "metadata": {},
   "outputs": [],
   "source": [
    "labels= rust_labels1 + healthy_leaf_labels"
   ]
  },
  {
   "cell_type": "code",
   "execution_count": 7,
   "metadata": {},
   "outputs": [],
   "source": [
    "rust_path= 'D:/₹/endtoend/groundnut leaf classification and detection/Groundnut_Leaf_dataset/train/exp4/early_rust_1/'\n",
    "data = []\n",
    "\n",
    "for img_file in rust1:\n",
    "\n",
    "  image = Image.open(rust_path + img_file)\n",
    "  image = image.resize((128,128))\n",
    "  image = image.convert('RGB')\n",
    "  image = np.array(image)\n",
    "  data.append(image)\n",
    "\n",
    "healthy_leaf_path = 'D:/₹/endtoend/groundnut leaf classification and detection/Groundnut_Leaf_dataset/train/exp4/healthy_leaf_1/'\n",
    "for img_file in healthy_leaf:\n",
    "\n",
    "  image = Image.open(healthy_leaf_path + img_file)\n",
    "  image = image.resize((128,128))\n",
    "  image = image.convert('RGB')\n",
    "  image = np.array(image)\n",
    "  data.append(image)  "
   ]
  },
  {
   "cell_type": "code",
   "execution_count": 8,
   "metadata": {},
   "outputs": [],
   "source": [
    "X = np.array(data)\n",
    "Y = np.array(labels)"
   ]
  },
  {
   "cell_type": "code",
   "execution_count": 9,
   "metadata": {},
   "outputs": [],
   "source": [
    "X_train, X_test, Y_train, Y_test = train_test_split(X, Y, test_size=0.2, random_state=20)"
   ]
  },
  {
   "cell_type": "code",
   "execution_count": 10,
   "metadata": {},
   "outputs": [],
   "source": [
    "X_train_scaled = X_train/255\n",
    "\n",
    "X_test_scaled = X_test/255"
   ]
  },
  {
   "cell_type": "code",
   "execution_count": 11,
   "metadata": {},
   "outputs": [
    {
     "name": "stdout",
     "output_type": "stream",
     "text": [
      "WARNING:tensorflow:From c:\\Users\\mrina\\Anaconda3\\Lib\\site-packages\\keras\\src\\backend.py:873: The name tf.get_default_graph is deprecated. Please use tf.compat.v1.get_default_graph instead.\n",
      "\n",
      "WARNING:tensorflow:From c:\\Users\\mrina\\Anaconda3\\Lib\\site-packages\\keras\\src\\layers\\pooling\\max_pooling2d.py:161: The name tf.nn.max_pool is deprecated. Please use tf.nn.max_pool2d instead.\n",
      "\n"
     ]
    }
   ],
   "source": [
    "model = keras.Sequential()\n",
    "\n",
    "model.add(keras.layers.Conv2D(32, kernel_size=(3,3), activation='relu', input_shape=(128,128,3)))\n",
    "model.add(keras.layers.MaxPooling2D(pool_size=(2,2)))\n",
    "\n",
    "model.add(keras.layers.Conv2D(16, kernel_size=(3,3), activation='relu'))\n",
    "model.add(keras.layers.MaxPooling2D(pool_size=(2,2)))\n",
    "\n",
    "model.add(keras.layers.Flatten())\n",
    "\n",
    "\n",
    "model.add(keras.layers.Dense(128, activation='relu'))\n",
    "model.add(keras.layers.Dropout(0.5))\n",
    "\n",
    "\n",
    "model.add(keras.layers.Dense(2, activation='sigmoid'))"
   ]
  },
  {
   "cell_type": "code",
   "execution_count": 12,
   "metadata": {},
   "outputs": [
    {
     "name": "stdout",
     "output_type": "stream",
     "text": [
      "WARNING:tensorflow:From c:\\Users\\mrina\\Anaconda3\\Lib\\site-packages\\keras\\src\\optimizers\\__init__.py:309: The name tf.train.Optimizer is deprecated. Please use tf.compat.v1.train.Optimizer instead.\n",
      "\n"
     ]
    }
   ],
   "source": [
    "# compile the neural network\n",
    "model.compile(optimizer='adam',\n",
    "              loss='sparse_categorical_crossentropy',\n",
    "              metrics=['acc'])"
   ]
  },
  {
   "cell_type": "code",
   "execution_count": 13,
   "metadata": {},
   "outputs": [
    {
     "name": "stdout",
     "output_type": "stream",
     "text": [
      "Epoch 1/20\n",
      "WARNING:tensorflow:From c:\\Users\\mrina\\Anaconda3\\Lib\\site-packages\\keras\\src\\utils\\tf_utils.py:492: The name tf.ragged.RaggedTensorValue is deprecated. Please use tf.compat.v1.ragged.RaggedTensorValue instead.\n",
      "\n",
      "WARNING:tensorflow:From c:\\Users\\mrina\\Anaconda3\\Lib\\site-packages\\keras\\src\\engine\\base_layer_utils.py:384: The name tf.executing_eagerly_outside_functions is deprecated. Please use tf.compat.v1.executing_eagerly_outside_functions instead.\n",
      "\n",
      "64/64 [==============================] - 7s 81ms/step - loss: 0.4588 - acc: 0.8041\n",
      "Epoch 2/20\n",
      "64/64 [==============================] - 5s 85ms/step - loss: 0.1322 - acc: 0.9456\n",
      "Epoch 3/20\n",
      "64/64 [==============================] - 7s 103ms/step - loss: 0.0777 - acc: 0.9743\n",
      "Epoch 4/20\n",
      "64/64 [==============================] - 7s 103ms/step - loss: 0.0460 - acc: 0.9866\n",
      "Epoch 5/20\n",
      "64/64 [==============================] - 7s 103ms/step - loss: 0.0310 - acc: 0.9896\n",
      "Epoch 6/20\n",
      "64/64 [==============================] - 6s 94ms/step - loss: 0.0127 - acc: 0.9955\n",
      "Epoch 7/20\n",
      "64/64 [==============================] - 24s 374ms/step - loss: 0.0084 - acc: 0.9970\n",
      "Epoch 8/20\n",
      "64/64 [==============================] - 36s 555ms/step - loss: 0.0178 - acc: 0.9926\n",
      "Epoch 9/20\n",
      "64/64 [==============================] - 40s 631ms/step - loss: 0.1902 - acc: 0.9386\n",
      "Epoch 10/20\n",
      "64/64 [==============================] - 28s 434ms/step - loss: 0.0392 - acc: 0.9861\n",
      "Epoch 11/20\n",
      "64/64 [==============================] - 28s 446ms/step - loss: 0.0087 - acc: 0.9975\n",
      "Epoch 12/20\n",
      "64/64 [==============================] - 6s 90ms/step - loss: 0.0102 - acc: 0.9960\n",
      "Epoch 13/20\n",
      "64/64 [==============================] - 5s 83ms/step - loss: 0.0033 - acc: 0.9995\n",
      "Epoch 14/20\n",
      "64/64 [==============================] - 30s 481ms/step - loss: 0.0012 - acc: 1.0000\n",
      "Epoch 15/20\n",
      "64/64 [==============================] - 20s 315ms/step - loss: 9.2893e-04 - acc: 1.0000\n",
      "Epoch 16/20\n",
      "64/64 [==============================] - 6s 90ms/step - loss: 0.0080 - acc: 0.9970\n",
      "Epoch 17/20\n",
      "64/64 [==============================] - 6s 89ms/step - loss: 0.0622 - acc: 0.9762\n",
      "Epoch 18/20\n",
      "64/64 [==============================] - 5s 82ms/step - loss: 0.0268 - acc: 0.9906\n",
      "Epoch 19/20\n",
      "64/64 [==============================] - 7s 106ms/step - loss: 0.0033 - acc: 0.9995\n",
      "Epoch 20/20\n",
      "64/64 [==============================] - 6s 92ms/step - loss: 0.0011 - acc: 1.0000\n"
     ]
    }
   ],
   "source": [
    "history = model.fit(X_train_scaled, Y_train, epochs=20)"
   ]
  },
  {
   "cell_type": "code",
   "execution_count": 14,
   "metadata": {},
   "outputs": [
    {
     "name": "stdout",
     "output_type": "stream",
     "text": [
      "16/16 [==============================] - 1s 24ms/step - loss: 0.0144 - acc: 0.9980\n",
      "Test Accuracy = 0.9980236887931824\n"
     ]
    }
   ],
   "source": [
    "loss, accuracy = model.evaluate(X_test_scaled, Y_test)\n",
    "print('Test Accuracy =', accuracy)\n"
   ]
  },
  {
   "cell_type": "code",
   "execution_count": 15,
   "metadata": {},
   "outputs": [
    {
     "name": "stdout",
     "output_type": "stream",
     "text": [
      "16/16 [==============================] - 1s 23ms/step\n"
     ]
    }
   ],
   "source": [
    "y_pred = np.argmax(model.predict(X_test), axis=-1)"
   ]
  },
  {
   "cell_type": "code",
   "execution_count": 16,
   "metadata": {},
   "outputs": [
    {
     "name": "stdout",
     "output_type": "stream",
     "text": [
      "              precision    recall  f1-score   support\n",
      "\n",
      "           0       0.97      1.00      0.99       226\n",
      "           1       1.00      0.98      0.99       280\n",
      "\n",
      "    accuracy                           0.99       506\n",
      "   macro avg       0.99      0.99      0.99       506\n",
      "weighted avg       0.99      0.99      0.99       506\n",
      "\n"
     ]
    }
   ],
   "source": [
    "from sklearn import metrics\n",
    "\n",
    "\n",
    "print(metrics.classification_report(Y_test, y_pred))"
   ]
  },
  {
   "cell_type": "code",
   "execution_count": 17,
   "metadata": {},
   "outputs": [
    {
     "name": "stdout",
     "output_type": "stream",
     "text": [
      "[[226   0]\n",
      " [  6 274]]\n"
     ]
    },
    {
     "data": {
      "image/png": "[encoded data removed]",
      "text/plain": [
       "<Figure size 800x600 with 2 Axes>"
      ]
     },
     "metadata": {},
     "output_type": "display_data"
    }
   ],
   "source": [
    "from sklearn.metrics import confusion_matrix,roc_curve,auc\n",
    "import seaborn as sns\n",
    "conf_matrix = confusion_matrix(Y_test, y_pred)\n",
    "print(conf_matrix)\n",
    "\n",
    "# Plot confusion matrix\n",
    "plt.figure(figsize=(8, 6))\n",
    "sns.heatmap(conf_matrix, annot=True, fmt='d', cmap='Blues', xticklabels=['early rust', 'Healthy Leaf'], yticklabels=['early rust', 'Healthy Leaf'])\n",
    "plt.xlabel('Predicted')\n",
    "plt.ylabel('True')\n",
    "plt.title('Confusion Matrix')\n",
    "plt.show()"
   ]
  },
  {
   "cell_type": "code",
   "execution_count": 18,
   "metadata": {},
   "outputs": [
    {
     "name": "stdout",
     "output_type": "stream",
     "text": [
      "16/16 [==============================] - 0s 21ms/step\n"
     ]
    },
    {
     "data": {
      "image/png": "[encoded data removed]",
      "text/plain": [
       "<Figure size 640x480 with 1 Axes>"
      ]
     },
     "metadata": {},
     "output_type": "display_data"
    }
   ],
   "source": [
    "y_pred_prob = model.predict(X_test_scaled)[:, 1]\n",
    "fpr, tpr, _ = roc_curve(Y_test, y_pred_prob)\n",
    "roc_auc = auc(fpr, tpr)\n",
    "\n",
    "# Plot ROC curve\n",
    "plt.figure()\n",
    "plt.plot(fpr, tpr, color='darkorange', lw=2, label='ROC curve (area = %0.2f)' % roc_auc)\n",
    "plt.plot([0, 1], [0, 1], color='navy', lw=2, linestyle='--')\n",
    "plt.xlim([0.0, 1.0])\n",
    "plt.ylim([0.0, 1.05])\n",
    "plt.xlabel('False Positive Rate')\n",
    "plt.ylabel('True Positive Rate')\n",
    "plt.title('Receiver Operating Characteristic (ROC) Curve')\n",
    "plt.legend(loc=\"lower right\")\n",
    "plt.show()"
   ]
  },
  {
   "cell_type": "code",
   "execution_count": 19,
   "metadata": {},
   "outputs": [
    {
     "name": "stderr",
     "output_type": "stream",
     "text": [
      "c:\\Users\\mrina\\Anaconda3\\Lib\\site-packages\\keras\\src\\engine\\training.py:3103: UserWarning: You are saving your model as an HDF5 file via `model.save()`. This file format is considered legacy. We recommend using instead the native Keras format, e.g. `model.save('my_model.keras')`.\n",
      "  saving_api.save_model(\n"
     ]
    }
   ],
   "source": [
    "model.save('groundnut_leaf_classifier_model4.h5')"
   ]
  },
  {
   "cell_type": "code",
   "execution_count": null,
   "metadata": {},
   "outputs": [],
   "source": [
    "from numpy import loadtxt\n",
    "from tensorflow.keras.models import load_model\n",
    " \n",
    "# load model\n",
    "model = load_model('groundnut_leaf_classifier_model4.h5')"
   ]
  },
  {
   "cell_type": "code",
   "execution_count": null,
   "metadata": {},
   "outputs": [],
   "source": [
    "model.summary()"
   ]
  },
  {
   "cell_type": "code",
   "execution_count": null,
   "metadata": {},
   "outputs": [],
   "source": [
    "X = np.array(data)\n",
    "Y = np.array(labels)"
   ]
  },
  {
   "cell_type": "code",
   "execution_count": null,
   "metadata": {},
   "outputs": [],
   "source": [
    "score = model.evaluate(X, Y, verbose=0)\n",
    "print(\"%s: %.2f%%\" % (model.metrics_names[1], score[1]*100))"
   ]
  }
 ],
 "metadata": {
  "kernelspec": {
   "display_name": "base",
   "language": "python",
   "name": "python3"
  },
  "language_info": {
   "codemirror_mode": {
    "name": "ipython",
    "version": 3
   },
   "file_extension": ".py",
   "mimetype": "text/x-python",
   "name": "python",
   "nbconvert_exporter": "python",
   "pygments_lexer": "ipython3",
   "version": "3.11.4"
  }
 },
 "nbformat": 4,
 "nbformat_minor": 2
}
